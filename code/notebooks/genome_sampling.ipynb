{
 "cells": [
  {
   "cell_type": "markdown",
   "metadata": {},
   "source": [
    "# Sampling genomes for phylogenetic inference"
   ]
  },
  {
   "cell_type": "markdown",
   "metadata": {},
   "source": [
    "## Summary"
   ]
  },
  {
   "cell_type": "markdown",
   "metadata": {},
   "source": [
    "Select ~10k genomes out of all 86,200 reference genomes, such that they represent the largest possible biodiversity, as measured by _k_-mer signature, plus multiple other criteria concerning genome quality and marker gene count, etc."
   ]
  },
  {
   "cell_type": "markdown",
   "metadata": {},
   "source": [
    "## Preparation"
   ]
  },
  {
   "cell_type": "markdown",
   "metadata": {},
   "source": [
    "### Dependencies"
   ]
  },
  {
   "cell_type": "code",
   "execution_count": 1,
   "metadata": {},
   "outputs": [],
   "source": [
    "import numpy as np\n",
    "import scipy as sp\n",
    "import pandas as pd\n",
    "import matplotlib as mpl\n",
    "import matplotlib.pyplot as plt\n",
    "import seaborn as sns"
   ]
  },
  {
   "cell_type": "code",
   "execution_count": 2,
   "metadata": {},
   "outputs": [],
   "source": [
    "from skbio.stats.distance import DistanceMatrix"
   ]
  },
  {
   "cell_type": "code",
   "execution_count": 3,
   "metadata": {},
   "outputs": [],
   "source": [
    "%matplotlib inline"
   ]
  },
  {
   "cell_type": "code",
   "execution_count": 4,
   "metadata": {},
   "outputs": [],
   "source": [
    "sns.set()"
   ]
  },
  {
   "cell_type": "markdown",
   "metadata": {},
   "source": [
    "### Input files"
   ]
  },
  {
   "cell_type": "markdown",
   "metadata": {},
   "source": [
    "Genome metadata"
   ]
  },
  {
   "cell_type": "code",
   "execution_count": null,
   "metadata": {},
   "outputs": [],
   "source": [
    "meta_fp = 'metadata.ext.tsv.xz'"
   ]
  },
  {
   "cell_type": "code",
   "execution_count": null,
   "metadata": {},
   "outputs": [],
   "source": [
    "df = pd.read_csv(meta_fp, sep='\\t', index_col=0, low_memory=False)\n",
    "df.shape[0]"
   ]
  },
  {
   "cell_type": "markdown",
   "metadata": {},
   "source": [
    "Genome distance matrix (calculated using MinHash)"
   ]
  },
  {
   "cell_type": "code",
   "execution_count": 5,
   "metadata": {},
   "outputs": [],
   "source": [
    "dm_fp = 'minhash.dm.bz2'"
   ]
  },
  {
   "cell_type": "code",
   "execution_count": null,
   "metadata": {},
   "outputs": [],
   "source": [
    "%time dm = DistanceMatrix.read(dm_fp)"
   ]
  },
  {
   "cell_type": "markdown",
   "metadata": {},
   "source": [
    "### Helpers"
   ]
  },
  {
   "cell_type": "markdown",
   "metadata": {},
   "source": [
    "Core algorithm: **prototype selection**"
   ]
  },
  {
   "cell_type": "code",
   "execution_count": null,
   "metadata": {},
   "outputs": [],
   "source": [
    "def prototype_selection_destructive_maxdist(dm, num_prototypes, seedset=None):\n",
    "    \"\"\"Prototype selection function (minified).\"\"\"\n",
    "    numRemain = len(dm.ids)\n",
    "    currDists = dm.data.sum(axis=1)\n",
    "    maxVal = currDists.max()\n",
    "    if seedset is not None:\n",
    "        for e in seedset:\n",
    "            currDists[dm.index(e)] = maxVal * 2\n",
    "    minElmIdx = currDists.argmin()\n",
    "    currDists[minElmIdx], numRemain = np.infty, numRemain - 1\n",
    "    while (numRemain > num_prototypes):\n",
    "        currDists -= dm.data[minElmIdx]\n",
    "        minElmIdx = currDists.argmin()\n",
    "        currDists[minElmIdx], numRemain = np.infty, numRemain - 1\n",
    "    return [dm.ids[idx]\n",
    "            for idx, dist in enumerate(currDists)\n",
    "            if dist != np.infty]"
   ]
  },
  {
   "cell_type": "code",
   "execution_count": null,
   "metadata": {},
   "outputs": [],
   "source": [
    "def distance_sum(elements, dm):\n",
    "    \"\"\"Calculate sum of distances among chosen genomes.\"\"\"\n",
    "    return np.tril(dm.filter(elements).data).sum()"
   ]
  },
  {
   "cell_type": "markdown",
   "metadata": {},
   "source": [
    "Generate a histogram with an upper fence."
   ]
  },
  {
   "cell_type": "code",
   "execution_count": null,
   "metadata": {},
   "outputs": [],
   "source": [
    "def hist_w_max(data, step, xmax):\n",
    "    \"\"\"Plot histogram with values > certain threshold combined in one bin.\"\"\"\n",
    "    bins = np.arange(0, xmax + step * 2, step)\n",
    "    plt.xticks(step * np.arange(len(bins)), [str(x) for x in plt.hist(np.clip(data, bins[0],\n",
    "        bins[-1]), bins=bins)[1]][:-1]+ ['Inf']);"
   ]
  },
  {
   "cell_type": "markdown",
   "metadata": {},
   "source": [
    "Generate a count plot"
   ]
  },
  {
   "cell_type": "code",
   "execution_count": null,
   "metadata": {},
   "outputs": [],
   "source": [
    "def count_plot(data, percent=False, **kwargs):\n",
    "    \"\"\"Plot bars representing categorical counts.\"\"\"\n",
    "    ax = sns.countplot(data, **kwargs)\n",
    "    total = float(len(data))\n",
    "    for p in ax.patches:\n",
    "        height = p.get_height()\n",
    "        ax.text(p.get_x() + p.get_width() / 2., height + 3,\n",
    "                '{:1.2f}'.format(height / total) if percent else str(int(height)),\n",
    "                ha='center')\n",
    "    ax.set_xlabel('')\n",
    "    return ax"
   ]
  },
  {
   "cell_type": "markdown",
   "metadata": {},
   "source": [
    "Generate a multi-panel figure to show the statistics of currently selected genomes"
   ]
  },
  {
   "cell_type": "code",
   "execution_count": null,
   "metadata": {},
   "outputs": [],
   "source": [
    "def examine_set(genomes):\n",
    "    \"\"\"Plot statistics of chosen genomes.\"\"\"\n",
    "    print('%d' % len(genomes))\n",
    "    gs = mpl.gridspec.GridSpec(1, 5, width_ratios=[1, 1, 1, 1, 2])\n",
    "    cols = ['markers', 'completeness', 'contamination', 'score_fna']\n",
    "    ymaxes = [400, 100, 600, 1.0]\n",
    "    dfc = df[df.index.isin(genomes)]\n",
    "    for i, col in enumerate(cols):\n",
    "        ax = plt.subplot(gs[i])\n",
    "        ax.plot(dfc[col].sort_values().tolist(), color='C%d' % i)\n",
    "        ax.set_title(col)\n",
    "        ax.set_ylim([0, ymaxes[i]])\n",
    "    m_taxa = df[df.index.isin(genomes)][ranks].apply(pd.Series.nunique)\n",
    "    p_taxa = m_taxa / n_taxa * 100\n",
    "    ax = plt.subplot(gs[4])\n",
    "    sns.barplot(x=p_taxa.index, y=p_taxa, ax=ax)\n",
    "    for i, p in enumerate(ax.patches):\n",
    "        height = p.get_height()\n",
    "        ax.text(p.get_x() + p.get_width() / 2., height + 3, m_taxa[ranks[i]], ha='center')\n",
    "    ax.set_ylim([0, 110])\n",
    "    ax.set_xlabel('');\n",
    "    ax.set_xticklabels(['p', 'c', 'o', 'f', 'g', 's', 't'])\n",
    "    ax.set_title('% included')\n",
    "    plt.tight_layout();"
   ]
  },
  {
   "cell_type": "markdown",
   "metadata": {},
   "source": [
    "## Analysis"
   ]
  },
  {
   "cell_type": "markdown",
   "metadata": {},
   "source": [
    "### Genome metadata"
   ]
  },
  {
   "cell_type": "markdown",
   "metadata": {},
   "source": [
    "Plot distributions of some metadata fields"
   ]
  },
  {
   "cell_type": "code",
   "execution_count": null,
   "metadata": {},
   "outputs": [],
   "source": [
    "mpl.rcParams['figure.figsize'] = (8, 2.5)"
   ]
  },
  {
   "cell_type": "code",
   "execution_count": null,
   "metadata": {},
   "outputs": [],
   "source": [
    "hist_w_max(df['total_length'] / 1000000, 1, 10)\n",
    "plt.title('Genome size (Mbp)');"
   ]
  },
  {
   "cell_type": "code",
   "execution_count": null,
   "metadata": {},
   "outputs": [],
   "source": [
    "hist_w_max(df['proteins'], 1000, 10000)\n",
    "plt.title('Number of proteins per genome');"
   ]
  },
  {
   "cell_type": "code",
   "execution_count": null,
   "metadata": {},
   "outputs": [],
   "source": [
    "hist_w_max(df['protein_length'] / 1000, 250, 3000)\n",
    "plt.title('Total length of proteins per genome (kaa)');"
   ]
  },
  {
   "cell_type": "code",
   "execution_count": null,
   "metadata": {},
   "outputs": [],
   "source": [
    "bins = [0, 50, 80, 90, 95, 97.5, 99, 99.5, 99.9, 100]\n",
    "plt.bar(range(len(bins) - 1), np.histogram(df['completeness'], bins=bins)[0], width=1,\n",
    "        align='edge')\n",
    "plt.xticks(np.arange(len(bins)), [str(x) for x in bins])\n",
    "plt.title('Completeness (%)');"
   ]
  },
  {
   "cell_type": "code",
   "execution_count": null,
   "metadata": {},
   "outputs": [],
   "source": [
    "bins = [0, 0.1, 0.25, 0.5, 1, 2.5, 5, 10, 20, 50, 100]\n",
    "plt.bar(range(len(bins) - 1), np.histogram(df['contamination'], bins=bins)[0], width=1,\n",
    "        align='edge')\n",
    "plt.xticks(np.arange(len(bins)), [str(x) for x in bins])\n",
    "plt.title('Contamination (%)');"
   ]
  },
  {
   "cell_type": "code",
   "execution_count": null,
   "metadata": {
    "scrolled": true
   },
   "outputs": [],
   "source": [
    "bins = np.arange(0, 425, 25)\n",
    "plt.hist(df['markers'], bins=bins)\n",
    "plt.title('Number of PhyloPhlAn marker genes');"
   ]
  },
  {
   "cell_type": "code",
   "execution_count": null,
   "metadata": {},
   "outputs": [],
   "source": [
    "plt.hist(df['score_fna'])\n",
    "plt.title('RepoPhlAn score of genome sequence (fna)');"
   ]
  },
  {
   "cell_type": "code",
   "execution_count": null,
   "metadata": {},
   "outputs": [],
   "source": [
    "plt.hist(df['n50'], log=True)\n",
    "plt.title('N50 of scaffolds');"
   ]
  },
  {
   "cell_type": "code",
   "execution_count": null,
   "metadata": {},
   "outputs": [],
   "source": [
    "order=['Complete Genome', 'Chromosome', 'Scaffold', 'Contig']\n",
    "count_plot(df['assembly_level'], order=order).set_title('Assembly level');"
   ]
  },
  {
   "cell_type": "code",
   "execution_count": null,
   "metadata": {
    "scrolled": false
   },
   "outputs": [],
   "source": [
    "count_plot(df['refseq_category'], log=True).set_title('RefSeq category');"
   ]
  },
  {
   "cell_type": "code",
   "execution_count": null,
   "metadata": {},
   "outputs": [],
   "source": [
    "count_plot(df['release_type']).set_title('Release type');"
   ]
  },
  {
   "cell_type": "code",
   "execution_count": null,
   "metadata": {},
   "outputs": [],
   "source": [
    "ranks = ['phylum', 'class', 'order', 'family', 'genus', 'species']\n",
    "df[ranks].describe()"
   ]
  },
  {
   "cell_type": "code",
   "execution_count": null,
   "metadata": {
    "scrolled": true
   },
   "outputs": [],
   "source": [
    "mpl.rcParams['figure.figsize'] = (9, 3)\n",
    "n_taxa = df[ranks].apply(pd.Series.nunique)\n",
    "ax = sns.barplot(x=n_taxa.index, y=n_taxa, log=True)\n",
    "for p in ax.patches:\n",
    "    height = p.get_height()\n",
    "    ax.text(p.get_x() + p.get_width() / 2., height + 3, str(int(height)), ha='center')\n",
    "ax.set_xlabel('')\n",
    "ax.set_title('Number of taxonomic groups per rank');"
   ]
  },
  {
   "cell_type": "code",
   "execution_count": null,
   "metadata": {},
   "outputs": [],
   "source": [
    "mpl.rcParams['figure.figsize'] = (12, 4)\n",
    "f, axarr = plt.subplots(1, 3)\n",
    "axarr[0].scatter(x='completeness', y='contamination', alpha=0.25, data=df)\n",
    "axarr[0].set_ylim(ymax=200)\n",
    "axarr[0].set_xlabel('Completeness (%)')\n",
    "axarr[0].set_ylabel('Contamination (%)');\n",
    "axarr[1].scatter(x='markers', y='completeness', alpha=0.25, data=df)\n",
    "axarr[1].set_xlabel('marker gene count')\n",
    "axarr[1].set_ylabel('Completeness (%)');\n",
    "axarr[2].scatter(x='markers', y='contamination', alpha=0.25, data=df)\n",
    "axarr[2].set_ylim(ymax=200)\n",
    "axarr[2].set_xlabel('marker gene count')\n",
    "axarr[2].set_ylabel('Contamination (%)')\n",
    "plt.suptitle('Distribution of marker gene count, contamination and completeness');"
   ]
  },
  {
   "cell_type": "markdown",
   "metadata": {},
   "source": [
    "Make a one-figure summary"
   ]
  },
  {
   "cell_type": "code",
   "execution_count": null,
   "metadata": {},
   "outputs": [],
   "source": [
    "examine_set(df.index)"
   ]
  },
  {
   "cell_type": "markdown",
   "metadata": {},
   "source": [
    "### Criteria for sampling"
   ]
  },
  {
   "cell_type": "code",
   "execution_count": null,
   "metadata": {},
   "outputs": [],
   "source": [
    "mpl.rcParams['figure.figsize'] = (12, 2.5)"
   ]
  },
  {
   "cell_type": "markdown",
   "metadata": {},
   "source": [
    "Quality filtering"
   ]
  },
  {
   "cell_type": "code",
   "execution_count": null,
   "metadata": {},
   "outputs": [],
   "source": [
    "qualified = set(df.query('markers >= 100').index.tolist())\n",
    "examine_set(qualified)"
   ]
  },
  {
   "cell_type": "code",
   "execution_count": null,
   "metadata": {},
   "outputs": [],
   "source": [
    "qualified = set(df.query('contamination <= 10').index.tolist())\n",
    "examine_set(qualified)"
   ]
  },
  {
   "cell_type": "code",
   "execution_count": null,
   "metadata": {},
   "outputs": [],
   "source": [
    "qualified = set(df.query('completeness >= 80').index.tolist())\n",
    "examine_set(qualified)"
   ]
  },
  {
   "cell_type": "markdown",
   "metadata": {},
   "source": [
    "NCBI reference and representative genomes"
   ]
  },
  {
   "cell_type": "code",
   "execution_count": null,
   "metadata": {},
   "outputs": [],
   "source": [
    "refp = set(df[df['refseq_category'] != 'na'].index.tolist())\n",
    "examine_set(refp)"
   ]
  },
  {
   "cell_type": "markdown",
   "metadata": {},
   "source": [
    "Only representatives of taxonomic groups"
   ]
  },
  {
   "cell_type": "code",
   "execution_count": null,
   "metadata": {},
   "outputs": [],
   "source": [
    "singles = {}\n",
    "reports = []\n",
    "for rank in ('phylum', 'class', 'order', 'family', 'genus', 'species'):\n",
    "    single_taxa = [i for i, val in df[rank].value_counts().iteritems() if val == 1]\n",
    "    singles[rank] = set(df[df[rank].isin(single_taxa)].index.tolist())\n",
    "    reports.append('%s: %d' % (rank, len(singles[rank])))\n",
    "print('Taxonomic groups with only one representative: %s' % ', '.join(reports))"
   ]
  },
  {
   "cell_type": "code",
   "execution_count": null,
   "metadata": {},
   "outputs": [],
   "source": [
    "examine_set(singles['phylum'])"
   ]
  },
  {
   "cell_type": "code",
   "execution_count": null,
   "metadata": {},
   "outputs": [],
   "source": [
    "examine_set(singles['class'])"
   ]
  },
  {
   "cell_type": "code",
   "execution_count": null,
   "metadata": {},
   "outputs": [],
   "source": [
    "examine_set(singles['order'])"
   ]
  },
  {
   "cell_type": "code",
   "execution_count": null,
   "metadata": {},
   "outputs": [],
   "source": [
    "examine_set(singles['family'])"
   ]
  },
  {
   "cell_type": "code",
   "execution_count": null,
   "metadata": {},
   "outputs": [],
   "source": [
    "examine_set(singles['genus'])"
   ]
  },
  {
   "cell_type": "code",
   "execution_count": null,
   "metadata": {},
   "outputs": [],
   "source": [
    "examine_set(singles['species'])"
   ]
  },
  {
   "cell_type": "markdown",
   "metadata": {},
   "source": [
    "No defined taxonomy above species"
   ]
  },
  {
   "cell_type": "code",
   "execution_count": null,
   "metadata": {},
   "outputs": [],
   "source": [
    "df_notax = df[df['phylum'].isnull() & df['class'].isnull()\n",
    "               & df['order'].isnull() & df['family'].isnull()\n",
    "               & df['genus'].isnull() & df['species'].notnull()]\n",
    "print('%d genomes belonging to %d species'\n",
    "      % (df_notax.shape[0], df_notax['species'].nunique()))"
   ]
  },
  {
   "cell_type": "code",
   "execution_count": null,
   "metadata": {},
   "outputs": [],
   "source": [
    "examine_set(df_notax.index)"
   ]
  },
  {
   "cell_type": "code",
   "execution_count": null,
   "metadata": {},
   "outputs": [],
   "source": [
    "single_notax = df_notax.groupby('species').filter(lambda x: len(x) == 1).index\n",
    "examine_set(single_notax)"
   ]
  },
  {
   "cell_type": "markdown",
   "metadata": {},
   "source": [
    "Prototype selection"
   ]
  },
  {
   "cell_type": "code",
   "execution_count": null,
   "metadata": {},
   "outputs": [],
   "source": [
    "k = 11000  # number of prototypes to keep"
   ]
  },
  {
   "cell_type": "code",
   "execution_count": null,
   "metadata": {},
   "outputs": [],
   "source": [
    "%time prototypes = prototype_selection_destructive_maxdist(dm, k)\n",
    "print('Sum of distances: %d.' % distance_sum(prototypes, dm))"
   ]
  },
  {
   "cell_type": "code",
   "execution_count": null,
   "metadata": {},
   "outputs": [],
   "source": [
    "examine_set(prototypes)"
   ]
  },
  {
   "cell_type": "markdown",
   "metadata": {},
   "source": [
    "### Formal sampling"
   ]
  },
  {
   "cell_type": "markdown",
   "metadata": {},
   "source": [
    "Procedures:\n",
    " 1. Exclude genomes with contamination > 10% or marker gene count < 100.\n",
    " 2. Include NCBI reference and representative genomes.\n",
    " 3. Include only representatives of each phylum to genus.\n",
    " 4. Include only representatives of each species without defined lineage.\n",
    " 5. Run prototype selection based on the MinHash distance matrix, with already included genomes as seeds, to obtain a total of 11000 genomes.\n",
    " 6. For each phylum to genus, and species without defined lineage, select one with highest marker gene count."
   ]
  },
  {
   "cell_type": "code",
   "execution_count": null,
   "metadata": {},
   "outputs": [],
   "source": [
    "chosen = set()"
   ]
  },
  {
   "cell_type": "markdown",
   "metadata": {},
   "source": [
    "Step 1: Exclude genomes with contamination > 10% or marker gene count < 100"
   ]
  },
  {
   "cell_type": "code",
   "execution_count": null,
   "metadata": {
    "scrolled": true
   },
   "outputs": [],
   "source": [
    "dfp = df.query('contamination <= 10 and markers >= 100')\n",
    "print('Genomes passed quality filtering: %d' % dfp.shape[0])"
   ]
  },
  {
   "cell_type": "code",
   "execution_count": null,
   "metadata": {},
   "outputs": [],
   "source": [
    "examine_set(dfp.index)"
   ]
  },
  {
   "cell_type": "markdown",
   "metadata": {},
   "source": [
    "Step 2: Include NCBI reference and representative genomes"
   ]
  },
  {
   "cell_type": "code",
   "execution_count": null,
   "metadata": {},
   "outputs": [],
   "source": [
    "refp = dfp[dfp['refseq_category'] != 'na'].index\n",
    "chosen.update(refp)\n",
    "print('Added NCBI reference and representative genomes: %d' % len(refp))"
   ]
  },
  {
   "cell_type": "code",
   "execution_count": null,
   "metadata": {},
   "outputs": [],
   "source": [
    "examine_set(chosen)"
   ]
  },
  {
   "cell_type": "markdown",
   "metadata": {},
   "source": [
    "Step 3: Include only representatives of each phylum to genus"
   ]
  },
  {
   "cell_type": "code",
   "execution_count": null,
   "metadata": {},
   "outputs": [],
   "source": [
    "reports = []\n",
    "for rank in ('phylum', 'class', 'order', 'family', 'genus'):\n",
    "    single_taxa = dfp.groupby(rank).filter(lambda x: len(x) == 1).index\n",
    "    toadd = set(single_taxa) - chosen\n",
    "    chosen.update(toadd)\n",
    "    reports.append('%s: %s' % (rank, len(toadd)))\n",
    "print('Added taxonomic groups: %s' % ', '.join(reports))"
   ]
  },
  {
   "cell_type": "code",
   "execution_count": null,
   "metadata": {},
   "outputs": [],
   "source": [
    "examine_set(chosen)"
   ]
  },
  {
   "cell_type": "markdown",
   "metadata": {},
   "source": [
    "Step 4: Include only representatives of each species without defined lineage"
   ]
  },
  {
   "cell_type": "code",
   "execution_count": null,
   "metadata": {},
   "outputs": [],
   "source": [
    "dfp_notax = dfp[dfp['phylum'].isnull() & dfp['class'].isnull()\n",
    "                & dfp['order'].isnull() & dfp['family'].isnull()\n",
    "                & dfp['genus'].isnull() & dfp['species'].notnull()]\n",
    "single_notax = dfp_notax.groupby('species').filter(lambda x: len(x) == 1).index\n",
    "toadd = set(single_notax) - chosen\n",
    "chosen.update(toadd)\n",
    "print('Added species without lineage: %d' % len(toadd))"
   ]
  },
  {
   "cell_type": "code",
   "execution_count": null,
   "metadata": {},
   "outputs": [],
   "source": [
    "examine_set(chosen)"
   ]
  },
  {
   "cell_type": "markdown",
   "metadata": {},
   "source": [
    "Step 5: Run prototype selection based on the MinHash distance matrix, with already included genomes as seeds, to obtain a total of 11000 genomes"
   ]
  },
  {
   "cell_type": "code",
   "execution_count": null,
   "metadata": {},
   "outputs": [],
   "source": [
    "%time dmp = dm.filter(dfp.index).copy()\n",
    "len(dmp.ids)"
   ]
  },
  {
   "cell_type": "code",
   "execution_count": null,
   "metadata": {},
   "outputs": [],
   "source": [
    "%time prototypes = prototype_selection_destructive_maxdist(dmp, 11000, chosen)\n",
    "print('Sum of distances: %d.' % distance_sum(prototypes, dmp))"
   ]
  },
  {
   "cell_type": "code",
   "execution_count": null,
   "metadata": {},
   "outputs": [],
   "source": [
    "toadd = set(prototypes) - chosen\n",
    "chosen.update(toadd)\n",
    "print('Added prototypes: %d' % len(toadd))"
   ]
  },
  {
   "cell_type": "code",
   "execution_count": null,
   "metadata": {},
   "outputs": [],
   "source": [
    "examine_set(chosen)"
   ]
  },
  {
   "cell_type": "markdown",
   "metadata": {},
   "source": [
    "Step 6: For each phylum to genus, and species without defined lineage, select one with highest marker gene count"
   ]
  },
  {
   "cell_type": "code",
   "execution_count": null,
   "metadata": {},
   "outputs": [],
   "source": [
    "reports = []\n",
    "dfc = dfp[dfp.index.isin(chosen)]\n",
    "for rank in ('phylum', 'class', 'order', 'family', 'genus'):\n",
    "    toadd = set()\n",
    "    chosen_taxa = dfc[rank].dropna().unique()\n",
    "    for taxon in dfp[rank].dropna().unique():\n",
    "        if not taxon in chosen_taxa:\n",
    "            toadd.add(dfp[dfp[rank] == taxon]['markers'].idxmax())\n",
    "    chosen.update(toadd)\n",
    "    reports.append('%s: %d' % (rank, len(toadd)))\n",
    "    dfc = dfp[dfp.index.isin(chosen)]\n",
    "print('Added taxonomic groups: %s' % ', '.join(reports))"
   ]
  },
  {
   "cell_type": "code",
   "execution_count": null,
   "metadata": {},
   "outputs": [],
   "source": [
    "toadd = set()\n",
    "dfc_notax = dfc[dfc.index.isin(dfp_notax.index)]\n",
    "for species in dfp_notax[~dfp_notax.index.isin(single_notax)]['species'].unique():\n",
    "    if dfc_notax.query('species == \"%s\"' % species).shape[0] == 0:\n",
    "        toadd.add(dfp_notax.query('species == \"%s\"' % species)['markers'].idxmax())\n",
    "chosen.update(toadd)\n",
    "dfc = dfp[dfp.index.isin(chosen)]\n",
    "print('Added species without lineage: %d' % len(toadd))"
   ]
  },
  {
   "cell_type": "code",
   "execution_count": null,
   "metadata": {},
   "outputs": [],
   "source": [
    "examine_set(chosen)"
   ]
  },
  {
   "cell_type": "code",
   "execution_count": null,
   "metadata": {},
   "outputs": [],
   "source": [
    "dfc['markers'].describe()"
   ]
  },
  {
   "cell_type": "code",
   "execution_count": null,
   "metadata": {},
   "outputs": [],
   "source": [
    "mpl.rcParams['figure.figsize'] = (12, 4)\n",
    "f, axarr = plt.subplots(1, 3)\n",
    "axarr[0].scatter(x='completeness', y='contamination', alpha=0.25, data=dfc)\n",
    "axarr[0].set_xlabel('Completeness (%)')\n",
    "axarr[0].set_ylabel('Contamination (%)');\n",
    "axarr[1].scatter(x='markers', y='completeness', alpha=0.25, data=dfc)\n",
    "axarr[1].set_xlabel('marker gene count')\n",
    "axarr[1].set_ylabel('Completeness (%)');\n",
    "axarr[2].scatter(x='markers', y='contamination', alpha=0.25, data=dfc)\n",
    "axarr[2].set_xlabel('marker gene count')\n",
    "axarr[2].set_ylabel('Contamination (%)')\n",
    "plt.suptitle('Distribution of marker gene count, contamination and completeness');"
   ]
  },
  {
   "cell_type": "markdown",
   "metadata": {},
   "source": [
    "Export results"
   ]
  },
  {
   "cell_type": "code",
   "execution_count": null,
   "metadata": {},
   "outputs": [],
   "source": [
    "with open('sampled.txt', 'w') as f:\n",
    "    for g in sorted(chosen):\n",
    "        f.write('%s\\n' % g)"
   ]
  },
  {
   "cell_type": "code",
   "execution_count": null,
   "metadata": {},
   "outputs": [],
   "source": [
    "df['chosen'] = df.index.isin(chosen)"
   ]
  },
  {
   "cell_type": "code",
   "execution_count": null,
   "metadata": {},
   "outputs": [],
   "source": [
    "df.to_csv('summary_sampled.tsv', sep='\\t')"
   ]
  }
 ],
 "metadata": {
  "anaconda-cloud": {},
  "hide_input": false,
  "kernelspec": {
   "display_name": "Python 3",
   "language": "python",
   "name": "python3"
  },
  "language_info": {
   "codemirror_mode": {
    "name": "ipython",
    "version": 3
   },
   "file_extension": ".py",
   "mimetype": "text/x-python",
   "name": "python",
   "nbconvert_exporter": "python",
   "pygments_lexer": "ipython3",
   "version": "3.6.8"
  }
 },
 "nbformat": 4,
 "nbformat_minor": 2
}
